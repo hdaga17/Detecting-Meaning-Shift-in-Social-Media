{
  "nbformat": 4,
  "nbformat_minor": 0,
  "metadata": {
    "colab": {
      "provenance": []
    },
    "kernelspec": {
      "name": "python3",
      "display_name": "Python 3"
    },
    "language_info": {
      "name": "python"
    }
  },
  "cells": [
    {
      "cell_type": "code",
      "execution_count": null,
      "metadata": {
        "id": "bBDmrN_uU3MF"
      },
      "outputs": [],
      "source": [
        "!pip install json\n",
        "!pip install spacy[transformers]\n",
        "!pip install emoji\n",
        "!pip install contractions\n",
        "!pip install textblob\n",
        "!pip install torch\n",
        "!pip install transformers\n",
        "!pip install SentencePiece"
      ]
    },
    {
      "cell_type": "code",
      "execution_count": null,
      "metadata": {
        "id": "oBSAcBuBRtrV",
        "colab": {
          "base_uri": "https://localhost:8080/"
        },
        "outputId": "07b435b0-1f4e-4eb1-8e7a-7fe17b67cec4"
      },
      "outputs": [
        {
          "output_type": "stream",
          "name": "stdout",
          "text": [
            "Drive already mounted at /content/drive; to attempt to forcibly remount, call drive.mount(\"/content/drive\", force_remount=True).\n"
          ]
        }
      ],
      "source": [
        "from google.colab import drive\n",
        "drive.mount('/content/drive')"
      ]
    },
    {
      "cell_type": "code",
      "source": [
        "import json\n",
        "import emoji\n",
        "import re, string, unicodedata\n",
        "import nltk\n",
        "import contractions\n",
        "import inflect\n",
        "from nltk import word_tokenize\n",
        "from textblob import TextBlob\n",
        "from nltk.corpus import stopwords\n",
        "from nltk.tokenize import word_tokenize\n",
        "nltk.download('punkt')\n",
        "from transformers import AlbertTokenizer, AlbertModel\n",
        "import pandas as pd\n",
        "import numpy as np\n",
        "import nltk\n",
        "import torch\n",
        "from scipy.spatial.distance import cosine\n",
        "from sklearn.metrics import roc_curve\n",
        "from sklearn.metrics import roc_auc_score\n",
        "from sklearn.metrics import confusion_matrix\n",
        "from sklearn.metrics import precision_score, recall_score, f1_score, accuracy_score\n",
        "import matplotlib.pyplot as plt"
      ],
      "metadata": {
        "id": "vh1M1gnk1xOp",
        "colab": {
          "base_uri": "https://localhost:8080/"
        },
        "outputId": "34064192-9318-4a33-b03d-2f3a7f62eb46"
      },
      "execution_count": null,
      "outputs": [
        {
          "output_type": "stream",
          "name": "stderr",
          "text": [
            "[nltk_data] Downloading package punkt to /root/nltk_data...\n",
            "[nltk_data]   Package punkt is already up-to-date!\n"
          ]
        }
      ]
    },
    {
      "cell_type": "markdown",
      "source": [
        "**TRAIN**"
      ],
      "metadata": {
        "id": "0LLifucRlc1l"
      }
    },
    {
      "cell_type": "code",
      "source": [
        "def load_instances(fn):\n",
        "    instances = []\n",
        "    with open(fn) as f:\n",
        "        for jl_str in f:\n",
        "            instances.append(json.loads(jl_str))\n",
        "    \n",
        "    return instances"
      ],
      "metadata": {
        "id": "txxJOp8BSB9K"
      },
      "execution_count": null,
      "outputs": []
    },
    {
      "cell_type": "code",
      "source": [
        "trial_instances = load_instances('/content/drive/MyDrive/TempoWiC_Starting_Kit/data/train.data.jl')"
      ],
      "metadata": {
        "id": "L26AM3i9SGX7"
      },
      "execution_count": null,
      "outputs": []
    },
    {
      "cell_type": "code",
      "source": [
        "def convert(s):\n",
        "    new = \"\"\n",
        "    for x in s:\n",
        "        new += x\n",
        "    return new\n",
        "\n",
        "def replace_contractions(text):\n",
        "    return contractions.fix(text)\n",
        "\n",
        "def remove_URL(sample):\n",
        "    return re.sub(r\"http\\S+\", \"\", sample)\n",
        "\n",
        "def remove_non_ascii(words):\n",
        "    new_words = []\n",
        "    for word in words:\n",
        "        new_word = unicodedata.normalize('NFKD', word).encode('ascii', 'ignore').decode('utf-8', 'ignore')\n",
        "        new_words.append(new_word)\n",
        "    temp=convert(new_words)\n",
        "    return temp\n",
        "\n",
        "def to_lowercase(words):\n",
        "    new_words = []\n",
        "    for word in words:\n",
        "        new_word = word.lower()\n",
        "        new_words.append(new_word)\n",
        "    return convert(new_words)\n",
        "\n",
        "def remove_punctuation(words):\n",
        "    new_words = []\n",
        "    for word in words:\n",
        "        new_word = re.sub(r'[^\\w\\s]', ' ', word)\n",
        "        if new_word != '':\n",
        "            new_words.append(new_word)\n",
        "    return convert(new_words)\n",
        "\n",
        "def replace_numbers(words):\n",
        "    p = inflect.engine()\n",
        "    new_words = []\n",
        "    for word in words:\n",
        "        if word.isdigit():\n",
        "            new_word = p.number_to_words(word)\n",
        "            new_words.append(new_word)\n",
        "        else:\n",
        "            new_words.append(word)\n",
        "    return convert(new_words)"
      ],
      "metadata": {
        "id": "PEEHqeKaq7bx"
      },
      "execution_count": null,
      "outputs": []
    },
    {
      "cell_type": "code",
      "source": [
        "texts1=[]\n",
        "texts2=[]\n",
        "words=[]\n",
        "id=[]\n",
        "for inst in trial_instances:\n",
        "  t1= \" \".join(emoji.demojize(inst['tweet1']['text']).replace(\",\",\" \").replace(\":\",\" \").replace(\"_\",\" \").split())\n",
        "  t1=replace_contractions(t1)\n",
        "  t1=remove_URL(t1)\n",
        "  t1=remove_non_ascii(t1)\n",
        "  t1=remove_punctuation(t1)\n",
        "  t1=replace_numbers(t1)\n",
        "  t1=to_lowercase(t1)\n",
        "  texts1.append(t1)\n",
        "\n",
        "  t2=\" \".join(emoji.demojize(inst['tweet2']['text']).replace(\",\",\" \").replace(\":\",\" \").replace(\"_\",\" \").split())\n",
        "  t2=replace_contractions(t2)\n",
        "  t2=remove_URL(t2)\n",
        "  t2=remove_non_ascii(t2)\n",
        "  t2=remove_punctuation(t2)\n",
        "  t2=replace_numbers(t2)\n",
        "  t2=to_lowercase(t2)\n",
        "  texts2.append(t2) \n",
        "  \n",
        "  words.append(inst['word'])\n",
        "  id.append(inst['id'])"
      ],
      "metadata": {
        "id": "dIjInRkDq_9i"
      },
      "execution_count": null,
      "outputs": []
    },
    {
      "cell_type": "code",
      "source": [
        "model = AlbertModel.from_pretrained(\"albert-base-v2\",output_hidden_states = True)\n",
        "tokenizer = AlbertTokenizer.from_pretrained('albert-base-v2',use_fast=True)\n",
        "\n",
        "for word in words:\n",
        "  tokenizer.add_tokens(word)\n",
        "\n",
        "\n",
        "model.resize_token_embeddings(len(tokenizer))  "
      ],
      "metadata": {
        "id": "hDP6JUqGWwMU",
        "colab": {
          "base_uri": "https://localhost:8080/"
        },
        "outputId": "e9e04a4c-fb19-49ae-f990-4c430ef52dec"
      },
      "execution_count": null,
      "outputs": [
        {
          "output_type": "stream",
          "name": "stderr",
          "text": [
            "Some weights of the model checkpoint at albert-base-v2 were not used when initializing AlbertModel: ['predictions.bias', 'predictions.LayerNorm.weight', 'predictions.dense.bias', 'predictions.dense.weight', 'predictions.LayerNorm.bias', 'predictions.decoder.bias', 'predictions.decoder.weight']\n",
            "- This IS expected if you are initializing AlbertModel from the checkpoint of a model trained on another task or with another architecture (e.g. initializing a BertForSequenceClassification model from a BertForPreTraining model).\n",
            "- This IS NOT expected if you are initializing AlbertModel from the checkpoint of a model that you expect to be exactly identical (initializing a BertForSequenceClassification model from a BertForSequenceClassification model).\n"
          ]
        },
        {
          "output_type": "execute_result",
          "data": {
            "text/plain": [
              "Embedding(30013, 128)"
            ]
          },
          "metadata": {},
          "execution_count": 40
        }
      ]
    },
    {
      "cell_type": "code",
      "source": [
        "def albert_text_preparation(text, tokenizer):\n",
        "\n",
        "    marked_text = \"[CLS] \" + text + \" [CLS]\"\n",
        "    tokenized_text = remove_non_ascii(' '.join(tokenizer.tokenize(text))).split()\n",
        "    indexed_tokens = tokenizer.convert_tokens_to_ids(tokenized_text)\n",
        "    segments_ids = [1]*len(indexed_tokens)\n",
        "    tokens_tensor = torch.tensor([indexed_tokens])\n",
        "    segments_tensors = torch.tensor([segments_ids])\n",
        "\n",
        "    return tokenized_text, tokens_tensor, segments_tensors"
      ],
      "metadata": {
        "id": "PwgTgW2zjpUQ"
      },
      "execution_count": null,
      "outputs": []
    },
    {
      "cell_type": "code",
      "source": [
        "def get_albert_embeddings(tokens_tensor, segments_tensors, model):\n",
        "    with torch.no_grad():\n",
        "        outputs = model(tokens_tensor, segments_tensors)\n",
        "        hidden_states = outputs[2][1:]\n",
        "\n",
        "    token_embeddings = hidden_states[-1]\n",
        "    token_embeddings = torch.squeeze(token_embeddings, dim=0)\n",
        "    list_token_embeddings = [token_embed.tolist() for token_embed in token_embeddings]\n",
        "\n",
        "    return list_token_embeddings"
      ],
      "metadata": {
        "id": "XhxAoWy6jvOb"
      },
      "execution_count": null,
      "outputs": []
    },
    {
      "cell_type": "code",
      "source": [
        "target_word_embeddings1 = []\n",
        "target_word_embeddings2 = []\n",
        "for text,word,ids in zip(texts1,words,id):\n",
        "    tokenizer.add_tokens(word)\n",
        "    tokenized_text, tokens_tensor, segments_tensors = albert_text_preparation(text, tokenizer)\n",
        "    list_token_embeddings = get_albert_embeddings(tokens_tensor, segments_tensors, model)\n",
        "    word_index = tokenized_text.index(word)\n",
        "    word_embedding = list_token_embeddings[word_index]\n",
        "    target_word_embeddings1.append(word_embedding)\n",
        "\n",
        "for text,word in zip(texts2,words):\n",
        "    tokenizer.add_tokens(word)\n",
        "    tokenized_text, tokens_tensor, segments_tensors = albert_text_preparation(text, tokenizer)\n",
        "    list_token_embeddings =get_albert_embeddings(tokens_tensor, segments_tensors, model)\n",
        "    word_index = tokenized_text.index(word)\n",
        "    word_embedding = list_token_embeddings[word_index]\n",
        "    target_word_embeddings2.append(word_embedding)\n",
        "\n",
        "\n",
        "len(target_word_embeddings1)\n",
        "len(target_word_embeddings2)"
      ],
      "metadata": {
        "id": "bxgKXW1Tjy4-",
        "colab": {
          "base_uri": "https://localhost:8080/"
        },
        "outputId": "087ad998-c4f6-457e-ee43-d8b7af3603e7"
      },
      "execution_count": null,
      "outputs": [
        {
          "output_type": "execute_result",
          "data": {
            "text/plain": [
              "1428"
            ]
          },
          "metadata": {},
          "execution_count": 43
        }
      ]
    },
    {
      "cell_type": "code",
      "source": [
        "\n",
        "list_of_distances = []\n",
        "for text1,text2,embed1,embed2 in zip(texts1,texts2,target_word_embeddings1,target_word_embeddings2):\n",
        "  cos_dist = 1 - cosine(embed1, embed2)\n",
        "  list_of_distances.append([text1, text2, cos_dist])\n",
        "\n",
        "distances_df = pd.DataFrame(list_of_distances, columns=['text1', 'text2', 'distance'])\n",
        "distances_df.head()"
      ],
      "metadata": {
        "id": "4Wut8mPnnNOW",
        "colab": {
          "base_uri": "https://localhost:8080/",
          "height": 206
        },
        "outputId": "96d70b4d-8a22-4994-9564-426cce1224e2"
      },
      "execution_count": null,
      "outputs": [
        {
          "output_type": "execute_result",
          "data": {
            "text/plain": [
              "                                               text1  \\\n",
              "0  my new most wanted character in smash is frisk...   \n",
              "1  imagine seeing qoute from cave story making it...   \n",
              "2  frisk and sans are my two favorite undertale c...   \n",
              "3  we do not like the search and frisk so this bi...   \n",
              "4  hey guys i am wondering if anybody would draw ...   \n",
              "\n",
              "                                               text2  distance  \n",
              "0  i was surprised by how much applause bloomberg...  0.556760  \n",
              "1  bloomberg  are you people for real onesix case...  0.445357  \n",
              "2  today in my wrongful convictions class we list...  0.404523  \n",
              "3  who the fuck is listening to mike bloomberg ra...  0.633333  \n",
              "4  how about stop in frisk happened in mostly min...  0.849723  "
            ],
            "text/html": [
              "\n",
              "  <div id=\"df-eaa03924-0198-40ac-a3a7-fea93a45bbab\">\n",
              "    <div class=\"colab-df-container\">\n",
              "      <div>\n",
              "<style scoped>\n",
              "    .dataframe tbody tr th:only-of-type {\n",
              "        vertical-align: middle;\n",
              "    }\n",
              "\n",
              "    .dataframe tbody tr th {\n",
              "        vertical-align: top;\n",
              "    }\n",
              "\n",
              "    .dataframe thead th {\n",
              "        text-align: right;\n",
              "    }\n",
              "</style>\n",
              "<table border=\"1\" class=\"dataframe\">\n",
              "  <thead>\n",
              "    <tr style=\"text-align: right;\">\n",
              "      <th></th>\n",
              "      <th>text1</th>\n",
              "      <th>text2</th>\n",
              "      <th>distance</th>\n",
              "    </tr>\n",
              "  </thead>\n",
              "  <tbody>\n",
              "    <tr>\n",
              "      <th>0</th>\n",
              "      <td>my new most wanted character in smash is frisk...</td>\n",
              "      <td>i was surprised by how much applause bloomberg...</td>\n",
              "      <td>0.556760</td>\n",
              "    </tr>\n",
              "    <tr>\n",
              "      <th>1</th>\n",
              "      <td>imagine seeing qoute from cave story making it...</td>\n",
              "      <td>bloomberg  are you people for real onesix case...</td>\n",
              "      <td>0.445357</td>\n",
              "    </tr>\n",
              "    <tr>\n",
              "      <th>2</th>\n",
              "      <td>frisk and sans are my two favorite undertale c...</td>\n",
              "      <td>today in my wrongful convictions class we list...</td>\n",
              "      <td>0.404523</td>\n",
              "    </tr>\n",
              "    <tr>\n",
              "      <th>3</th>\n",
              "      <td>we do not like the search and frisk so this bi...</td>\n",
              "      <td>who the fuck is listening to mike bloomberg ra...</td>\n",
              "      <td>0.633333</td>\n",
              "    </tr>\n",
              "    <tr>\n",
              "      <th>4</th>\n",
              "      <td>hey guys i am wondering if anybody would draw ...</td>\n",
              "      <td>how about stop in frisk happened in mostly min...</td>\n",
              "      <td>0.849723</td>\n",
              "    </tr>\n",
              "  </tbody>\n",
              "</table>\n",
              "</div>\n",
              "      <button class=\"colab-df-convert\" onclick=\"convertToInteractive('df-eaa03924-0198-40ac-a3a7-fea93a45bbab')\"\n",
              "              title=\"Convert this dataframe to an interactive table.\"\n",
              "              style=\"display:none;\">\n",
              "        \n",
              "  <svg xmlns=\"http://www.w3.org/2000/svg\" height=\"24px\"viewBox=\"0 0 24 24\"\n",
              "       width=\"24px\">\n",
              "    <path d=\"M0 0h24v24H0V0z\" fill=\"none\"/>\n",
              "    <path d=\"M18.56 5.44l.94 2.06.94-2.06 2.06-.94-2.06-.94-.94-2.06-.94 2.06-2.06.94zm-11 1L8.5 8.5l.94-2.06 2.06-.94-2.06-.94L8.5 2.5l-.94 2.06-2.06.94zm10 10l.94 2.06.94-2.06 2.06-.94-2.06-.94-.94-2.06-.94 2.06-2.06.94z\"/><path d=\"M17.41 7.96l-1.37-1.37c-.4-.4-.92-.59-1.43-.59-.52 0-1.04.2-1.43.59L10.3 9.45l-7.72 7.72c-.78.78-.78 2.05 0 2.83L4 21.41c.39.39.9.59 1.41.59.51 0 1.02-.2 1.41-.59l7.78-7.78 2.81-2.81c.8-.78.8-2.07 0-2.86zM5.41 20L4 18.59l7.72-7.72 1.47 1.35L5.41 20z\"/>\n",
              "  </svg>\n",
              "      </button>\n",
              "      \n",
              "  <style>\n",
              "    .colab-df-container {\n",
              "      display:flex;\n",
              "      flex-wrap:wrap;\n",
              "      gap: 12px;\n",
              "    }\n",
              "\n",
              "    .colab-df-convert {\n",
              "      background-color: #E8F0FE;\n",
              "      border: none;\n",
              "      border-radius: 50%;\n",
              "      cursor: pointer;\n",
              "      display: none;\n",
              "      fill: #1967D2;\n",
              "      height: 32px;\n",
              "      padding: 0 0 0 0;\n",
              "      width: 32px;\n",
              "    }\n",
              "\n",
              "    .colab-df-convert:hover {\n",
              "      background-color: #E2EBFA;\n",
              "      box-shadow: 0px 1px 2px rgba(60, 64, 67, 0.3), 0px 1px 3px 1px rgba(60, 64, 67, 0.15);\n",
              "      fill: #174EA6;\n",
              "    }\n",
              "\n",
              "    [theme=dark] .colab-df-convert {\n",
              "      background-color: #3B4455;\n",
              "      fill: #D2E3FC;\n",
              "    }\n",
              "\n",
              "    [theme=dark] .colab-df-convert:hover {\n",
              "      background-color: #434B5C;\n",
              "      box-shadow: 0px 1px 3px 1px rgba(0, 0, 0, 0.15);\n",
              "      filter: drop-shadow(0px 1px 2px rgba(0, 0, 0, 0.3));\n",
              "      fill: #FFFFFF;\n",
              "    }\n",
              "  </style>\n",
              "\n",
              "      <script>\n",
              "        const buttonEl =\n",
              "          document.querySelector('#df-eaa03924-0198-40ac-a3a7-fea93a45bbab button.colab-df-convert');\n",
              "        buttonEl.style.display =\n",
              "          google.colab.kernel.accessAllowed ? 'block' : 'none';\n",
              "\n",
              "        async function convertToInteractive(key) {\n",
              "          const element = document.querySelector('#df-eaa03924-0198-40ac-a3a7-fea93a45bbab');\n",
              "          const dataTable =\n",
              "            await google.colab.kernel.invokeFunction('convertToInteractive',\n",
              "                                                     [key], {});\n",
              "          if (!dataTable) return;\n",
              "\n",
              "          const docLinkHtml = 'Like what you see? Visit the ' +\n",
              "            '<a target=\"_blank\" href=https://colab.research.google.com/notebooks/data_table.ipynb>data table notebook</a>'\n",
              "            + ' to learn more about interactive tables.';\n",
              "          element.innerHTML = '';\n",
              "          dataTable['output_type'] = 'display_data';\n",
              "          await google.colab.output.renderOutput(dataTable, element);\n",
              "          const docLink = document.createElement('div');\n",
              "          docLink.innerHTML = docLinkHtml;\n",
              "          element.appendChild(docLink);\n",
              "        }\n",
              "      </script>\n",
              "    </div>\n",
              "  </div>\n",
              "  "
            ]
          },
          "metadata": {},
          "execution_count": 45
        }
      ]
    },
    {
      "cell_type": "code",
      "source": [
        "column_names=[\"target_word\",\"y_train\"]\n",
        "tsv_data = pd.read_csv('/content/drive/MyDrive/TempoWiC_Starting_Kit/data/train.labels.tsv', sep='\\t', names=column_names)\n",
        "tsv_data.head()"
      ],
      "metadata": {
        "id": "lDWb38xJCGp5",
        "colab": {
          "base_uri": "https://localhost:8080/",
          "height": 206
        },
        "outputId": "9a6142b1-8afc-4fc6-d2cc-48ca4bd1f9e4"
      },
      "execution_count": null,
      "outputs": [
        {
          "output_type": "execute_result",
          "data": {
            "text/plain": [
              "  target_word  y_train\n",
              "0  3347-frisk        0\n",
              "1  3349-frisk        0\n",
              "2  3350-frisk        0\n",
              "3  3351-frisk        1\n",
              "4  3352-frisk        0"
            ],
            "text/html": [
              "\n",
              "  <div id=\"df-30cb9e57-b610-44e2-b895-1ed34898fc42\">\n",
              "    <div class=\"colab-df-container\">\n",
              "      <div>\n",
              "<style scoped>\n",
              "    .dataframe tbody tr th:only-of-type {\n",
              "        vertical-align: middle;\n",
              "    }\n",
              "\n",
              "    .dataframe tbody tr th {\n",
              "        vertical-align: top;\n",
              "    }\n",
              "\n",
              "    .dataframe thead th {\n",
              "        text-align: right;\n",
              "    }\n",
              "</style>\n",
              "<table border=\"1\" class=\"dataframe\">\n",
              "  <thead>\n",
              "    <tr style=\"text-align: right;\">\n",
              "      <th></th>\n",
              "      <th>target_word</th>\n",
              "      <th>y_train</th>\n",
              "    </tr>\n",
              "  </thead>\n",
              "  <tbody>\n",
              "    <tr>\n",
              "      <th>0</th>\n",
              "      <td>3347-frisk</td>\n",
              "      <td>0</td>\n",
              "    </tr>\n",
              "    <tr>\n",
              "      <th>1</th>\n",
              "      <td>3349-frisk</td>\n",
              "      <td>0</td>\n",
              "    </tr>\n",
              "    <tr>\n",
              "      <th>2</th>\n",
              "      <td>3350-frisk</td>\n",
              "      <td>0</td>\n",
              "    </tr>\n",
              "    <tr>\n",
              "      <th>3</th>\n",
              "      <td>3351-frisk</td>\n",
              "      <td>1</td>\n",
              "    </tr>\n",
              "    <tr>\n",
              "      <th>4</th>\n",
              "      <td>3352-frisk</td>\n",
              "      <td>0</td>\n",
              "    </tr>\n",
              "  </tbody>\n",
              "</table>\n",
              "</div>\n",
              "      <button class=\"colab-df-convert\" onclick=\"convertToInteractive('df-30cb9e57-b610-44e2-b895-1ed34898fc42')\"\n",
              "              title=\"Convert this dataframe to an interactive table.\"\n",
              "              style=\"display:none;\">\n",
              "        \n",
              "  <svg xmlns=\"http://www.w3.org/2000/svg\" height=\"24px\"viewBox=\"0 0 24 24\"\n",
              "       width=\"24px\">\n",
              "    <path d=\"M0 0h24v24H0V0z\" fill=\"none\"/>\n",
              "    <path d=\"M18.56 5.44l.94 2.06.94-2.06 2.06-.94-2.06-.94-.94-2.06-.94 2.06-2.06.94zm-11 1L8.5 8.5l.94-2.06 2.06-.94-2.06-.94L8.5 2.5l-.94 2.06-2.06.94zm10 10l.94 2.06.94-2.06 2.06-.94-2.06-.94-.94-2.06-.94 2.06-2.06.94z\"/><path d=\"M17.41 7.96l-1.37-1.37c-.4-.4-.92-.59-1.43-.59-.52 0-1.04.2-1.43.59L10.3 9.45l-7.72 7.72c-.78.78-.78 2.05 0 2.83L4 21.41c.39.39.9.59 1.41.59.51 0 1.02-.2 1.41-.59l7.78-7.78 2.81-2.81c.8-.78.8-2.07 0-2.86zM5.41 20L4 18.59l7.72-7.72 1.47 1.35L5.41 20z\"/>\n",
              "  </svg>\n",
              "      </button>\n",
              "      \n",
              "  <style>\n",
              "    .colab-df-container {\n",
              "      display:flex;\n",
              "      flex-wrap:wrap;\n",
              "      gap: 12px;\n",
              "    }\n",
              "\n",
              "    .colab-df-convert {\n",
              "      background-color: #E8F0FE;\n",
              "      border: none;\n",
              "      border-radius: 50%;\n",
              "      cursor: pointer;\n",
              "      display: none;\n",
              "      fill: #1967D2;\n",
              "      height: 32px;\n",
              "      padding: 0 0 0 0;\n",
              "      width: 32px;\n",
              "    }\n",
              "\n",
              "    .colab-df-convert:hover {\n",
              "      background-color: #E2EBFA;\n",
              "      box-shadow: 0px 1px 2px rgba(60, 64, 67, 0.3), 0px 1px 3px 1px rgba(60, 64, 67, 0.15);\n",
              "      fill: #174EA6;\n",
              "    }\n",
              "\n",
              "    [theme=dark] .colab-df-convert {\n",
              "      background-color: #3B4455;\n",
              "      fill: #D2E3FC;\n",
              "    }\n",
              "\n",
              "    [theme=dark] .colab-df-convert:hover {\n",
              "      background-color: #434B5C;\n",
              "      box-shadow: 0px 1px 3px 1px rgba(0, 0, 0, 0.15);\n",
              "      filter: drop-shadow(0px 1px 2px rgba(0, 0, 0, 0.3));\n",
              "      fill: #FFFFFF;\n",
              "    }\n",
              "  </style>\n",
              "\n",
              "      <script>\n",
              "        const buttonEl =\n",
              "          document.querySelector('#df-30cb9e57-b610-44e2-b895-1ed34898fc42 button.colab-df-convert');\n",
              "        buttonEl.style.display =\n",
              "          google.colab.kernel.accessAllowed ? 'block' : 'none';\n",
              "\n",
              "        async function convertToInteractive(key) {\n",
              "          const element = document.querySelector('#df-30cb9e57-b610-44e2-b895-1ed34898fc42');\n",
              "          const dataTable =\n",
              "            await google.colab.kernel.invokeFunction('convertToInteractive',\n",
              "                                                     [key], {});\n",
              "          if (!dataTable) return;\n",
              "\n",
              "          const docLinkHtml = 'Like what you see? Visit the ' +\n",
              "            '<a target=\"_blank\" href=https://colab.research.google.com/notebooks/data_table.ipynb>data table notebook</a>'\n",
              "            + ' to learn more about interactive tables.';\n",
              "          element.innerHTML = '';\n",
              "          dataTable['output_type'] = 'display_data';\n",
              "          await google.colab.output.renderOutput(dataTable, element);\n",
              "          const docLink = document.createElement('div');\n",
              "          docLink.innerHTML = docLinkHtml;\n",
              "          element.appendChild(docLink);\n",
              "        }\n",
              "      </script>\n",
              "    </div>\n",
              "  </div>\n",
              "  "
            ]
          },
          "metadata": {},
          "execution_count": 46
        }
      ]
    },
    {
      "cell_type": "code",
      "source": [
        "fpr, tpr, thresholds = roc_curve(tsv_data['y_train'], distances_df['distance'])\n",
        "f1_ls = []\n",
        "for thres in thresholds:\n",
        "    y_pred = np.where(distances_df['distance']>thres,1,0)\n",
        "    f1_ls.append(f1_score(tsv_data['y_train'], y_pred, average='macro'))\n",
        "    \n",
        "f1_ls = pd.concat([pd.Series(thresholds), pd.Series(f1_ls)],axis=1)\n",
        "f1_ls.columns = ['thresholds', 'f1']\n",
        "f1_ls.sort_values(by='f1', ascending=False, inplace=True)\n",
        "f1_ls.head()"
      ],
      "metadata": {
        "id": "ATfOsGLcCIFa",
        "colab": {
          "base_uri": "https://localhost:8080/",
          "height": 206
        },
        "outputId": "f70dd9bc-145c-4d96-d1e7-312861840e5b"
      },
      "execution_count": null,
      "outputs": [
        {
          "output_type": "execute_result",
          "data": {
            "text/plain": [
              "     thresholds        f1\n",
              "291    0.557967  0.528416\n",
              "289    0.559754  0.527772\n",
              "293    0.556999  0.527607\n",
              "292    0.557514  0.527400\n",
              "290    0.558883  0.527378"
            ],
            "text/html": [
              "\n",
              "  <div id=\"df-84da6eb3-d69a-4622-85fe-ff81fefcbd0b\">\n",
              "    <div class=\"colab-df-container\">\n",
              "      <div>\n",
              "<style scoped>\n",
              "    .dataframe tbody tr th:only-of-type {\n",
              "        vertical-align: middle;\n",
              "    }\n",
              "\n",
              "    .dataframe tbody tr th {\n",
              "        vertical-align: top;\n",
              "    }\n",
              "\n",
              "    .dataframe thead th {\n",
              "        text-align: right;\n",
              "    }\n",
              "</style>\n",
              "<table border=\"1\" class=\"dataframe\">\n",
              "  <thead>\n",
              "    <tr style=\"text-align: right;\">\n",
              "      <th></th>\n",
              "      <th>thresholds</th>\n",
              "      <th>f1</th>\n",
              "    </tr>\n",
              "  </thead>\n",
              "  <tbody>\n",
              "    <tr>\n",
              "      <th>291</th>\n",
              "      <td>0.557967</td>\n",
              "      <td>0.528416</td>\n",
              "    </tr>\n",
              "    <tr>\n",
              "      <th>289</th>\n",
              "      <td>0.559754</td>\n",
              "      <td>0.527772</td>\n",
              "    </tr>\n",
              "    <tr>\n",
              "      <th>293</th>\n",
              "      <td>0.556999</td>\n",
              "      <td>0.527607</td>\n",
              "    </tr>\n",
              "    <tr>\n",
              "      <th>292</th>\n",
              "      <td>0.557514</td>\n",
              "      <td>0.527400</td>\n",
              "    </tr>\n",
              "    <tr>\n",
              "      <th>290</th>\n",
              "      <td>0.558883</td>\n",
              "      <td>0.527378</td>\n",
              "    </tr>\n",
              "  </tbody>\n",
              "</table>\n",
              "</div>\n",
              "      <button class=\"colab-df-convert\" onclick=\"convertToInteractive('df-84da6eb3-d69a-4622-85fe-ff81fefcbd0b')\"\n",
              "              title=\"Convert this dataframe to an interactive table.\"\n",
              "              style=\"display:none;\">\n",
              "        \n",
              "  <svg xmlns=\"http://www.w3.org/2000/svg\" height=\"24px\"viewBox=\"0 0 24 24\"\n",
              "       width=\"24px\">\n",
              "    <path d=\"M0 0h24v24H0V0z\" fill=\"none\"/>\n",
              "    <path d=\"M18.56 5.44l.94 2.06.94-2.06 2.06-.94-2.06-.94-.94-2.06-.94 2.06-2.06.94zm-11 1L8.5 8.5l.94-2.06 2.06-.94-2.06-.94L8.5 2.5l-.94 2.06-2.06.94zm10 10l.94 2.06.94-2.06 2.06-.94-2.06-.94-.94-2.06-.94 2.06-2.06.94z\"/><path d=\"M17.41 7.96l-1.37-1.37c-.4-.4-.92-.59-1.43-.59-.52 0-1.04.2-1.43.59L10.3 9.45l-7.72 7.72c-.78.78-.78 2.05 0 2.83L4 21.41c.39.39.9.59 1.41.59.51 0 1.02-.2 1.41-.59l7.78-7.78 2.81-2.81c.8-.78.8-2.07 0-2.86zM5.41 20L4 18.59l7.72-7.72 1.47 1.35L5.41 20z\"/>\n",
              "  </svg>\n",
              "      </button>\n",
              "      \n",
              "  <style>\n",
              "    .colab-df-container {\n",
              "      display:flex;\n",
              "      flex-wrap:wrap;\n",
              "      gap: 12px;\n",
              "    }\n",
              "\n",
              "    .colab-df-convert {\n",
              "      background-color: #E8F0FE;\n",
              "      border: none;\n",
              "      border-radius: 50%;\n",
              "      cursor: pointer;\n",
              "      display: none;\n",
              "      fill: #1967D2;\n",
              "      height: 32px;\n",
              "      padding: 0 0 0 0;\n",
              "      width: 32px;\n",
              "    }\n",
              "\n",
              "    .colab-df-convert:hover {\n",
              "      background-color: #E2EBFA;\n",
              "      box-shadow: 0px 1px 2px rgba(60, 64, 67, 0.3), 0px 1px 3px 1px rgba(60, 64, 67, 0.15);\n",
              "      fill: #174EA6;\n",
              "    }\n",
              "\n",
              "    [theme=dark] .colab-df-convert {\n",
              "      background-color: #3B4455;\n",
              "      fill: #D2E3FC;\n",
              "    }\n",
              "\n",
              "    [theme=dark] .colab-df-convert:hover {\n",
              "      background-color: #434B5C;\n",
              "      box-shadow: 0px 1px 3px 1px rgba(0, 0, 0, 0.15);\n",
              "      filter: drop-shadow(0px 1px 2px rgba(0, 0, 0, 0.3));\n",
              "      fill: #FFFFFF;\n",
              "    }\n",
              "  </style>\n",
              "\n",
              "      <script>\n",
              "        const buttonEl =\n",
              "          document.querySelector('#df-84da6eb3-d69a-4622-85fe-ff81fefcbd0b button.colab-df-convert');\n",
              "        buttonEl.style.display =\n",
              "          google.colab.kernel.accessAllowed ? 'block' : 'none';\n",
              "\n",
              "        async function convertToInteractive(key) {\n",
              "          const element = document.querySelector('#df-84da6eb3-d69a-4622-85fe-ff81fefcbd0b');\n",
              "          const dataTable =\n",
              "            await google.colab.kernel.invokeFunction('convertToInteractive',\n",
              "                                                     [key], {});\n",
              "          if (!dataTable) return;\n",
              "\n",
              "          const docLinkHtml = 'Like what you see? Visit the ' +\n",
              "            '<a target=\"_blank\" href=https://colab.research.google.com/notebooks/data_table.ipynb>data table notebook</a>'\n",
              "            + ' to learn more about interactive tables.';\n",
              "          element.innerHTML = '';\n",
              "          dataTable['output_type'] = 'display_data';\n",
              "          await google.colab.output.renderOutput(dataTable, element);\n",
              "          const docLink = document.createElement('div');\n",
              "          docLink.innerHTML = docLinkHtml;\n",
              "          element.appendChild(docLink);\n",
              "        }\n",
              "      </script>\n",
              "    </div>\n",
              "  </div>\n",
              "  "
            ]
          },
          "metadata": {},
          "execution_count": 47
        }
      ]
    },
    {
      "cell_type": "code",
      "source": [
        "thres=f1_ls.iloc[0].thresholds\n",
        "thres"
      ],
      "metadata": {
        "id": "hU-Oj689CMau",
        "colab": {
          "base_uri": "https://localhost:8080/"
        },
        "outputId": "0bb914a5-c0eb-46c1-ec07-65f5302201ca"
      },
      "execution_count": null,
      "outputs": [
        {
          "output_type": "execute_result",
          "data": {
            "text/plain": [
              "0.5579671338411639"
            ]
          },
          "metadata": {},
          "execution_count": 48
        }
      ]
    },
    {
      "cell_type": "markdown",
      "source": [],
      "metadata": {
        "id": "iWmmwX4wsCQd"
      }
    },
    {
      "cell_type": "markdown",
      "source": [
        "**VALIDATION**"
      ],
      "metadata": {
        "id": "7EABSvrbsCSL"
      }
    },
    {
      "cell_type": "code",
      "source": [
        "val_instances = load_instances('/content/drive/MyDrive/TempoWiC_Starting_Kit/data/validation.data.jl')"
      ],
      "metadata": {
        "id": "QnQq3AclCP8d"
      },
      "execution_count": null,
      "outputs": []
    },
    {
      "cell_type": "code",
      "source": [
        "texts1_val=[]\n",
        "texts2_val=[]\n",
        "words_val=[]\n",
        "id_val=[]\n",
        "for inst in val_instances:\n",
        "  t1= \" \".join(emoji.demojize(inst['tweet1']['text']).replace(\",\",\"\").replace(\":\",\" \").replace(\"_\",\" \").split())\n",
        "  t1=replace_contractions(t1)\n",
        "  t1=remove_URL(t1)\n",
        "  t1=remove_non_ascii(t1)\n",
        "  t1=remove_punctuation(t1)\n",
        "  t1=replace_numbers(t1)\n",
        "  t1=to_lowercase(t1)\n",
        "  t2=\" \".join(emoji.demojize(inst['tweet2']['text']).replace(\",\",\"\").replace(\":\",\" \").replace(\"_\",\" \").split())\n",
        "  t2=replace_contractions(t2)\n",
        "  t2=remove_URL(t2)\n",
        "  t2=remove_non_ascii(t2)\n",
        "  t2=remove_punctuation(t2)\n",
        "  t2=replace_numbers(t2)\n",
        "  t2=to_lowercase(t2)\n",
        "  texts1_val.append(t1)\n",
        "  texts2_val.append(t2)\n",
        "  words_val.append(inst['word'])\n",
        "  id_val.append(inst['id'])"
      ],
      "metadata": {
        "id": "acmRo4PHCRqA"
      },
      "execution_count": null,
      "outputs": []
    },
    {
      "cell_type": "code",
      "source": [
        "model = AlbertModel.from_pretrained(\"albert-base-v2\",output_hidden_states = True)\n",
        "tokenizer = AlbertTokenizer.from_pretrained('albert-base-v2',use_fast=True)\n",
        "\n",
        "for word in words_val:\n",
        "  tokenizer.add_tokens(word)\n",
        "\n",
        "model.resize_token_embeddings(len(tokenizer))  "
      ],
      "metadata": {
        "id": "m9rPUX1hCT53",
        "colab": {
          "base_uri": "https://localhost:8080/"
        },
        "outputId": "ae91ba01-447c-4161-f66f-053a9dd80e68"
      },
      "execution_count": null,
      "outputs": [
        {
          "output_type": "stream",
          "name": "stderr",
          "text": [
            "Some weights of the model checkpoint at albert-base-v2 were not used when initializing AlbertModel: ['predictions.bias', 'predictions.LayerNorm.weight', 'predictions.dense.bias', 'predictions.dense.weight', 'predictions.LayerNorm.bias', 'predictions.decoder.bias', 'predictions.decoder.weight']\n",
            "- This IS expected if you are initializing AlbertModel from the checkpoint of a model trained on another task or with another architecture (e.g. initializing a BertForSequenceClassification model from a BertForPreTraining model).\n",
            "- This IS NOT expected if you are initializing AlbertModel from the checkpoint of a model that you expect to be exactly identical (initializing a BertForSequenceClassification model from a BertForSequenceClassification model).\n"
          ]
        },
        {
          "output_type": "execute_result",
          "data": {
            "text/plain": [
              "Embedding(30003, 128)"
            ]
          },
          "metadata": {},
          "execution_count": 52
        }
      ]
    },
    {
      "cell_type": "code",
      "source": [
        "target_word_embeddings1 = []\n",
        "target_word_embeddings2 = []\n",
        "wordem=[]\n",
        "\n",
        "for text,word,ids in zip(texts1_val,words_val,id_val):\n",
        "    tokenizer.add_tokens(word)\n",
        "    tokenized_text, tokens_tensor, segments_tensors = albert_text_preparation(text, tokenizer)\n",
        "    list_token_embeddings = get_albert_embeddings(tokens_tensor, segments_tensors, model)\n",
        "    word_index = tokenized_text.index(word)\n",
        "    word_embedding = list_token_embeddings[word_index]\n",
        "    target_word_embeddings1.append(word_embedding)\n",
        "\n",
        "for text,word in zip(texts2_val,words_val):\n",
        "    tokenizer.add_tokens(word)\n",
        "    tokenized_text, tokens_tensor, segments_tensors = albert_text_preparation(text, tokenizer)\n",
        "    list_token_embeddings = get_albert_embeddings(tokens_tensor, segments_tensors, model)\n",
        "    word_index = tokenized_text.index(word)\n",
        "    word_embedding = list_token_embeddings[word_index]\n",
        "    target_word_embeddings2.append(word_embedding)\n",
        "\n",
        "\n",
        "len(target_word_embeddings1)\n",
        "len(target_word_embeddings2)"
      ],
      "metadata": {
        "id": "fxKMR3vlCdCm",
        "colab": {
          "base_uri": "https://localhost:8080/"
        },
        "outputId": "fd4b34dd-bf39-4294-f318-a0f3a2fa3c4d"
      },
      "execution_count": null,
      "outputs": [
        {
          "output_type": "execute_result",
          "data": {
            "text/plain": [
              "396"
            ]
          },
          "metadata": {},
          "execution_count": 53
        }
      ]
    },
    {
      "cell_type": "code",
      "source": [
        "list_of_distances = []\n",
        "for text1,text2,embed1,embed2 in zip(texts1_val,texts2_val,target_word_embeddings1,target_word_embeddings2):\n",
        "  cos_dist = 1 - cosine(embed1, embed2)\n",
        "  list_of_distances.append([text1, text2, cos_dist])\n",
        "\n",
        "distances_df = pd.DataFrame(list_of_distances, columns=['text1', 'text2', 'distance'])\n",
        "\n",
        "distances_df.head()"
      ],
      "metadata": {
        "id": "_eLsJ7B5DHLr",
        "colab": {
          "base_uri": "https://localhost:8080/",
          "height": 206
        },
        "outputId": "66950034-1ff0-4593-aa51-72010f9bbe26"
      },
      "execution_count": null,
      "outputs": [
        {
          "output_type": "execute_result",
          "data": {
            "text/plain": [
              "                                               text1  \\\n",
              "0   impostor syndrome hitting real hard today lmao     \n",
              "1  had my coffee with a splash of impostor syndro...   \n",
              "2    rejected    one six   phdchat this week on a...   \n",
              "3  til that the  proper  way to spell imposter is...   \n",
              "4  my impostor syndrome around the music building...   \n",
              "\n",
              "                                               text2  distance  \n",
              "0  good morning everyone except this impostor syn...  0.255634  \n",
              "1  i have out of this world impostor reads but i ...  0.573776  \n",
              "2  cries played among us with strangers i was the...  0.553889  \n",
              "3  onest game as an impostor ever was a fat w smi...  0.552622  \n",
              "4  it pisses me off when a player rats out his fe...  0.473282  "
            ],
            "text/html": [
              "\n",
              "  <div id=\"df-67c6a4d5-48cf-4d2e-9fad-81f5738b441f\">\n",
              "    <div class=\"colab-df-container\">\n",
              "      <div>\n",
              "<style scoped>\n",
              "    .dataframe tbody tr th:only-of-type {\n",
              "        vertical-align: middle;\n",
              "    }\n",
              "\n",
              "    .dataframe tbody tr th {\n",
              "        vertical-align: top;\n",
              "    }\n",
              "\n",
              "    .dataframe thead th {\n",
              "        text-align: right;\n",
              "    }\n",
              "</style>\n",
              "<table border=\"1\" class=\"dataframe\">\n",
              "  <thead>\n",
              "    <tr style=\"text-align: right;\">\n",
              "      <th></th>\n",
              "      <th>text1</th>\n",
              "      <th>text2</th>\n",
              "      <th>distance</th>\n",
              "    </tr>\n",
              "  </thead>\n",
              "  <tbody>\n",
              "    <tr>\n",
              "      <th>0</th>\n",
              "      <td>impostor syndrome hitting real hard today lmao</td>\n",
              "      <td>good morning everyone except this impostor syn...</td>\n",
              "      <td>0.255634</td>\n",
              "    </tr>\n",
              "    <tr>\n",
              "      <th>1</th>\n",
              "      <td>had my coffee with a splash of impostor syndro...</td>\n",
              "      <td>i have out of this world impostor reads but i ...</td>\n",
              "      <td>0.573776</td>\n",
              "    </tr>\n",
              "    <tr>\n",
              "      <th>2</th>\n",
              "      <td>rejected    one six   phdchat this week on a...</td>\n",
              "      <td>cries played among us with strangers i was the...</td>\n",
              "      <td>0.553889</td>\n",
              "    </tr>\n",
              "    <tr>\n",
              "      <th>3</th>\n",
              "      <td>til that the  proper  way to spell imposter is...</td>\n",
              "      <td>onest game as an impostor ever was a fat w smi...</td>\n",
              "      <td>0.552622</td>\n",
              "    </tr>\n",
              "    <tr>\n",
              "      <th>4</th>\n",
              "      <td>my impostor syndrome around the music building...</td>\n",
              "      <td>it pisses me off when a player rats out his fe...</td>\n",
              "      <td>0.473282</td>\n",
              "    </tr>\n",
              "  </tbody>\n",
              "</table>\n",
              "</div>\n",
              "      <button class=\"colab-df-convert\" onclick=\"convertToInteractive('df-67c6a4d5-48cf-4d2e-9fad-81f5738b441f')\"\n",
              "              title=\"Convert this dataframe to an interactive table.\"\n",
              "              style=\"display:none;\">\n",
              "        \n",
              "  <svg xmlns=\"http://www.w3.org/2000/svg\" height=\"24px\"viewBox=\"0 0 24 24\"\n",
              "       width=\"24px\">\n",
              "    <path d=\"M0 0h24v24H0V0z\" fill=\"none\"/>\n",
              "    <path d=\"M18.56 5.44l.94 2.06.94-2.06 2.06-.94-2.06-.94-.94-2.06-.94 2.06-2.06.94zm-11 1L8.5 8.5l.94-2.06 2.06-.94-2.06-.94L8.5 2.5l-.94 2.06-2.06.94zm10 10l.94 2.06.94-2.06 2.06-.94-2.06-.94-.94-2.06-.94 2.06-2.06.94z\"/><path d=\"M17.41 7.96l-1.37-1.37c-.4-.4-.92-.59-1.43-.59-.52 0-1.04.2-1.43.59L10.3 9.45l-7.72 7.72c-.78.78-.78 2.05 0 2.83L4 21.41c.39.39.9.59 1.41.59.51 0 1.02-.2 1.41-.59l7.78-7.78 2.81-2.81c.8-.78.8-2.07 0-2.86zM5.41 20L4 18.59l7.72-7.72 1.47 1.35L5.41 20z\"/>\n",
              "  </svg>\n",
              "      </button>\n",
              "      \n",
              "  <style>\n",
              "    .colab-df-container {\n",
              "      display:flex;\n",
              "      flex-wrap:wrap;\n",
              "      gap: 12px;\n",
              "    }\n",
              "\n",
              "    .colab-df-convert {\n",
              "      background-color: #E8F0FE;\n",
              "      border: none;\n",
              "      border-radius: 50%;\n",
              "      cursor: pointer;\n",
              "      display: none;\n",
              "      fill: #1967D2;\n",
              "      height: 32px;\n",
              "      padding: 0 0 0 0;\n",
              "      width: 32px;\n",
              "    }\n",
              "\n",
              "    .colab-df-convert:hover {\n",
              "      background-color: #E2EBFA;\n",
              "      box-shadow: 0px 1px 2px rgba(60, 64, 67, 0.3), 0px 1px 3px 1px rgba(60, 64, 67, 0.15);\n",
              "      fill: #174EA6;\n",
              "    }\n",
              "\n",
              "    [theme=dark] .colab-df-convert {\n",
              "      background-color: #3B4455;\n",
              "      fill: #D2E3FC;\n",
              "    }\n",
              "\n",
              "    [theme=dark] .colab-df-convert:hover {\n",
              "      background-color: #434B5C;\n",
              "      box-shadow: 0px 1px 3px 1px rgba(0, 0, 0, 0.15);\n",
              "      filter: drop-shadow(0px 1px 2px rgba(0, 0, 0, 0.3));\n",
              "      fill: #FFFFFF;\n",
              "    }\n",
              "  </style>\n",
              "\n",
              "      <script>\n",
              "        const buttonEl =\n",
              "          document.querySelector('#df-67c6a4d5-48cf-4d2e-9fad-81f5738b441f button.colab-df-convert');\n",
              "        buttonEl.style.display =\n",
              "          google.colab.kernel.accessAllowed ? 'block' : 'none';\n",
              "\n",
              "        async function convertToInteractive(key) {\n",
              "          const element = document.querySelector('#df-67c6a4d5-48cf-4d2e-9fad-81f5738b441f');\n",
              "          const dataTable =\n",
              "            await google.colab.kernel.invokeFunction('convertToInteractive',\n",
              "                                                     [key], {});\n",
              "          if (!dataTable) return;\n",
              "\n",
              "          const docLinkHtml = 'Like what you see? Visit the ' +\n",
              "            '<a target=\"_blank\" href=https://colab.research.google.com/notebooks/data_table.ipynb>data table notebook</a>'\n",
              "            + ' to learn more about interactive tables.';\n",
              "          element.innerHTML = '';\n",
              "          dataTable['output_type'] = 'display_data';\n",
              "          await google.colab.output.renderOutput(dataTable, element);\n",
              "          const docLink = document.createElement('div');\n",
              "          docLink.innerHTML = docLinkHtml;\n",
              "          element.appendChild(docLink);\n",
              "        }\n",
              "      </script>\n",
              "    </div>\n",
              "  </div>\n",
              "  "
            ]
          },
          "metadata": {},
          "execution_count": 54
        }
      ]
    },
    {
      "cell_type": "code",
      "source": [
        "column_names=[\"target_word\",\"y_train\"]\n",
        "tsv_data_val = pd.read_csv('/content/drive/MyDrive/TempoWiC_Starting_Kit/data/validation.labels.tsv', sep='\\t', names=column_names)\n",
        "tsv_data_val"
      ],
      "metadata": {
        "id": "0A47lUCpDKky",
        "colab": {
          "base_uri": "https://localhost:8080/",
          "height": 424
        },
        "outputId": "ace579f4-53ea-4cba-98a1-e0677a1288d0"
      },
      "execution_count": null,
      "outputs": [
        {
          "output_type": "execute_result",
          "data": {
            "text/plain": [
              "       target_word  y_train\n",
              "0    1670-impostor        1\n",
              "1    1671-impostor        1\n",
              "2    1672-impostor        0\n",
              "3    1673-impostor        0\n",
              "4    1674-impostor        0\n",
              "..             ...      ...\n",
              "391     3940-primo        1\n",
              "392     3941-primo        0\n",
              "393     3942-primo        1\n",
              "394     3943-primo        1\n",
              "395     3944-primo        0\n",
              "\n",
              "[396 rows x 2 columns]"
            ],
            "text/html": [
              "\n",
              "  <div id=\"df-d3bad13f-e667-48c4-822f-76210b451c61\">\n",
              "    <div class=\"colab-df-container\">\n",
              "      <div>\n",
              "<style scoped>\n",
              "    .dataframe tbody tr th:only-of-type {\n",
              "        vertical-align: middle;\n",
              "    }\n",
              "\n",
              "    .dataframe tbody tr th {\n",
              "        vertical-align: top;\n",
              "    }\n",
              "\n",
              "    .dataframe thead th {\n",
              "        text-align: right;\n",
              "    }\n",
              "</style>\n",
              "<table border=\"1\" class=\"dataframe\">\n",
              "  <thead>\n",
              "    <tr style=\"text-align: right;\">\n",
              "      <th></th>\n",
              "      <th>target_word</th>\n",
              "      <th>y_train</th>\n",
              "    </tr>\n",
              "  </thead>\n",
              "  <tbody>\n",
              "    <tr>\n",
              "      <th>0</th>\n",
              "      <td>1670-impostor</td>\n",
              "      <td>1</td>\n",
              "    </tr>\n",
              "    <tr>\n",
              "      <th>1</th>\n",
              "      <td>1671-impostor</td>\n",
              "      <td>1</td>\n",
              "    </tr>\n",
              "    <tr>\n",
              "      <th>2</th>\n",
              "      <td>1672-impostor</td>\n",
              "      <td>0</td>\n",
              "    </tr>\n",
              "    <tr>\n",
              "      <th>3</th>\n",
              "      <td>1673-impostor</td>\n",
              "      <td>0</td>\n",
              "    </tr>\n",
              "    <tr>\n",
              "      <th>4</th>\n",
              "      <td>1674-impostor</td>\n",
              "      <td>0</td>\n",
              "    </tr>\n",
              "    <tr>\n",
              "      <th>...</th>\n",
              "      <td>...</td>\n",
              "      <td>...</td>\n",
              "    </tr>\n",
              "    <tr>\n",
              "      <th>391</th>\n",
              "      <td>3940-primo</td>\n",
              "      <td>1</td>\n",
              "    </tr>\n",
              "    <tr>\n",
              "      <th>392</th>\n",
              "      <td>3941-primo</td>\n",
              "      <td>0</td>\n",
              "    </tr>\n",
              "    <tr>\n",
              "      <th>393</th>\n",
              "      <td>3942-primo</td>\n",
              "      <td>1</td>\n",
              "    </tr>\n",
              "    <tr>\n",
              "      <th>394</th>\n",
              "      <td>3943-primo</td>\n",
              "      <td>1</td>\n",
              "    </tr>\n",
              "    <tr>\n",
              "      <th>395</th>\n",
              "      <td>3944-primo</td>\n",
              "      <td>0</td>\n",
              "    </tr>\n",
              "  </tbody>\n",
              "</table>\n",
              "<p>396 rows × 2 columns</p>\n",
              "</div>\n",
              "      <button class=\"colab-df-convert\" onclick=\"convertToInteractive('df-d3bad13f-e667-48c4-822f-76210b451c61')\"\n",
              "              title=\"Convert this dataframe to an interactive table.\"\n",
              "              style=\"display:none;\">\n",
              "        \n",
              "  <svg xmlns=\"http://www.w3.org/2000/svg\" height=\"24px\"viewBox=\"0 0 24 24\"\n",
              "       width=\"24px\">\n",
              "    <path d=\"M0 0h24v24H0V0z\" fill=\"none\"/>\n",
              "    <path d=\"M18.56 5.44l.94 2.06.94-2.06 2.06-.94-2.06-.94-.94-2.06-.94 2.06-2.06.94zm-11 1L8.5 8.5l.94-2.06 2.06-.94-2.06-.94L8.5 2.5l-.94 2.06-2.06.94zm10 10l.94 2.06.94-2.06 2.06-.94-2.06-.94-.94-2.06-.94 2.06-2.06.94z\"/><path d=\"M17.41 7.96l-1.37-1.37c-.4-.4-.92-.59-1.43-.59-.52 0-1.04.2-1.43.59L10.3 9.45l-7.72 7.72c-.78.78-.78 2.05 0 2.83L4 21.41c.39.39.9.59 1.41.59.51 0 1.02-.2 1.41-.59l7.78-7.78 2.81-2.81c.8-.78.8-2.07 0-2.86zM5.41 20L4 18.59l7.72-7.72 1.47 1.35L5.41 20z\"/>\n",
              "  </svg>\n",
              "      </button>\n",
              "      \n",
              "  <style>\n",
              "    .colab-df-container {\n",
              "      display:flex;\n",
              "      flex-wrap:wrap;\n",
              "      gap: 12px;\n",
              "    }\n",
              "\n",
              "    .colab-df-convert {\n",
              "      background-color: #E8F0FE;\n",
              "      border: none;\n",
              "      border-radius: 50%;\n",
              "      cursor: pointer;\n",
              "      display: none;\n",
              "      fill: #1967D2;\n",
              "      height: 32px;\n",
              "      padding: 0 0 0 0;\n",
              "      width: 32px;\n",
              "    }\n",
              "\n",
              "    .colab-df-convert:hover {\n",
              "      background-color: #E2EBFA;\n",
              "      box-shadow: 0px 1px 2px rgba(60, 64, 67, 0.3), 0px 1px 3px 1px rgba(60, 64, 67, 0.15);\n",
              "      fill: #174EA6;\n",
              "    }\n",
              "\n",
              "    [theme=dark] .colab-df-convert {\n",
              "      background-color: #3B4455;\n",
              "      fill: #D2E3FC;\n",
              "    }\n",
              "\n",
              "    [theme=dark] .colab-df-convert:hover {\n",
              "      background-color: #434B5C;\n",
              "      box-shadow: 0px 1px 3px 1px rgba(0, 0, 0, 0.15);\n",
              "      filter: drop-shadow(0px 1px 2px rgba(0, 0, 0, 0.3));\n",
              "      fill: #FFFFFF;\n",
              "    }\n",
              "  </style>\n",
              "\n",
              "      <script>\n",
              "        const buttonEl =\n",
              "          document.querySelector('#df-d3bad13f-e667-48c4-822f-76210b451c61 button.colab-df-convert');\n",
              "        buttonEl.style.display =\n",
              "          google.colab.kernel.accessAllowed ? 'block' : 'none';\n",
              "\n",
              "        async function convertToInteractive(key) {\n",
              "          const element = document.querySelector('#df-d3bad13f-e667-48c4-822f-76210b451c61');\n",
              "          const dataTable =\n",
              "            await google.colab.kernel.invokeFunction('convertToInteractive',\n",
              "                                                     [key], {});\n",
              "          if (!dataTable) return;\n",
              "\n",
              "          const docLinkHtml = 'Like what you see? Visit the ' +\n",
              "            '<a target=\"_blank\" href=https://colab.research.google.com/notebooks/data_table.ipynb>data table notebook</a>'\n",
              "            + ' to learn more about interactive tables.';\n",
              "          element.innerHTML = '';\n",
              "          dataTable['output_type'] = 'display_data';\n",
              "          await google.colab.output.renderOutput(dataTable, element);\n",
              "          const docLink = document.createElement('div');\n",
              "          docLink.innerHTML = docLinkHtml;\n",
              "          element.appendChild(docLink);\n",
              "        }\n",
              "      </script>\n",
              "    </div>\n",
              "  </div>\n",
              "  "
            ]
          },
          "metadata": {},
          "execution_count": 56
        }
      ]
    },
    {
      "cell_type": "code",
      "source": [
        "y_pred_val = np.where(distances_df['distance']>thres,1,0)"
      ],
      "metadata": {
        "id": "wQqV-YW0DNOr"
      },
      "execution_count": null,
      "outputs": []
    },
    {
      "cell_type": "code",
      "source": [
        "conf_matrix = confusion_matrix(y_true=tsv_data_val['y_train'], y_pred=y_pred_val)\n",
        "fig, ax = plt.subplots(figsize=(5, 5))\n",
        "ax.matshow(conf_matrix, cmap=plt.cm.Oranges, alpha=0.3)\n",
        "for i in range(conf_matrix.shape[0]):\n",
        "    for j in range(conf_matrix.shape[1]):\n",
        "        ax.text(x=j, y=i,s=conf_matrix[i, j], va='center', ha='center', size='xx-large')\n",
        " \n",
        "plt.xlabel('Predictions', fontsize=18)\n",
        "plt.ylabel('Actuals', fontsize=18)\n",
        "plt.title('Confusion Matrix', fontsize=18)\n",
        "plt.show()"
      ],
      "metadata": {
        "id": "LKXm7c4TDbsp",
        "colab": {
          "base_uri": "https://localhost:8080/",
          "height": 358
        },
        "outputId": "ec3d471b-6a57-421c-e139-dcbc77f1dc53"
      },
      "execution_count": null,
      "outputs": [
        {
          "output_type": "display_data",
          "data": {
            "text/plain": [
              "<Figure size 360x360 with 1 Axes>"
            ],
            "image/png": "[encoded data removed]"
          },
          "metadata": {
            "needs_background": "light"
          }
        }
      ]
    },
    {
      "cell_type": "code",
      "source": [
        "print('F1 Score: %.3f' % f1_score(tsv_data_val['y_train'], y_pred_val,average='macro'))"
      ],
      "metadata": {
        "id": "I9MFIkk_zbIL",
        "colab": {
          "base_uri": "https://localhost:8080/"
        },
        "outputId": "97a2f6a0-1ede-4c61-c9a6-6066231c8d16"
      },
      "execution_count": null,
      "outputs": [
        {
          "output_type": "stream",
          "name": "stdout",
          "text": [
            "F1 Score: 0.535\n"
          ]
        }
      ]
    },
    {
      "cell_type": "code",
      "source": [
        "print('Precision: %.3f' % precision_score(tsv_data_val['y_train'], y_pred_val))"
      ],
      "metadata": {
        "id": "9-bgoBvXzsG_",
        "colab": {
          "base_uri": "https://localhost:8080/"
        },
        "outputId": "7f81eff9-82e9-4763-d047-0d99b20473b7"
      },
      "execution_count": null,
      "outputs": [
        {
          "output_type": "stream",
          "name": "stdout",
          "text": [
            "Precision: 0.483\n"
          ]
        }
      ]
    },
    {
      "cell_type": "code",
      "source": [
        "print('Recall: %.3f' % recall_score(tsv_data_val['y_train'], y_pred_val))"
      ],
      "metadata": {
        "id": "EZHaMvfhz6e3",
        "colab": {
          "base_uri": "https://localhost:8080/"
        },
        "outputId": "ba96f608-b385-4536-d2bb-07fb0f1111ac"
      },
      "execution_count": null,
      "outputs": [
        {
          "output_type": "stream",
          "name": "stdout",
          "text": [
            "Recall: 0.413\n"
          ]
        }
      ]
    },
    {
      "cell_type": "code",
      "source": [
        "print('Accuracy: %.3f' % accuracy_score(tsv_data_val['y_train'], y_pred_val))"
      ],
      "metadata": {
        "id": "PfenwMHtx8jZ",
        "colab": {
          "base_uri": "https://localhost:8080/"
        },
        "outputId": "95441d96-24ff-473a-f954-2edba29a0dda"
      },
      "execution_count": null,
      "outputs": [
        {
          "output_type": "stream",
          "name": "stdout",
          "text": [
            "Accuracy: 0.553\n"
          ]
        }
      ]
    },
    {
      "cell_type": "markdown",
      "source": [
        "**TEST**"
      ],
      "metadata": {
        "id": "SozYxllxs89l"
      }
    },
    {
      "cell_type": "code",
      "source": [
        "test_instances = load_instances('/content/drive/MyDrive/TempoWiC_Starting_Kit/data/test-codalab-10k.data.jl')"
      ],
      "metadata": {
        "id": "WxXYFXXPs_SK"
      },
      "execution_count": null,
      "outputs": []
    },
    {
      "cell_type": "code",
      "source": [
        "texts1_test=[]\n",
        "texts2_test=[]\n",
        "words_test=[]\n",
        "id_test=[]\n",
        "for inst in test_instances:\n",
        "  t1= \" \".join(emoji.demojize(inst['tweet1']['text']).replace(\",\",\" \").replace(\":\",\" \").replace(\"_\",\" \").split())\n",
        "  t1=replace_contractions(t1)\n",
        "  t1=remove_URL(t1)\n",
        "  t1=remove_non_ascii(t1)\n",
        "  t1=remove_punctuation(t1)\n",
        "  t1=replace_numbers(t1)\n",
        "  t1=to_lowercase(t1)\n",
        "  t2=\" \".join(emoji.demojize(inst['tweet2']['text']).replace(\",\",\" \").replace(\":\",\" \").replace(\"_\",\" \").split())\n",
        "  t2=replace_contractions(t2)\n",
        "  t2=remove_URL(t2)\n",
        "  t2=remove_non_ascii(t2)\n",
        "  t2=remove_punctuation(t2)\n",
        "  t2=replace_numbers(t2)\n",
        "  t2=to_lowercase(t2)\n",
        "  texts1_test.append(t1)\n",
        "  texts2_test.append(t2)\n",
        "  words_test.append(inst['word'])\n",
        "  id_test.append(inst['id'])"
      ],
      "metadata": {
        "id": "PlM0_3IFtHRi"
      },
      "execution_count": null,
      "outputs": []
    },
    {
      "cell_type": "code",
      "source": [
        "model = AlbertModel.from_pretrained(\"albert-base-v2\",output_hidden_states = True)\n",
        "tokenizer = AlbertTokenizer.from_pretrained('albert-base-v2',use_fast=True)\n",
        "\n",
        "for word in words_test:\n",
        "  tokenizer.add_tokens(word)\n",
        "\n",
        "model.resize_token_embeddings(len(tokenizer))  "
      ],
      "metadata": {
        "id": "YX7wRNeZtPUp"
      },
      "execution_count": null,
      "outputs": []
    },
    {
      "cell_type": "code",
      "source": [
        "target_word_embeddings1_test = []\n",
        "target_word_embeddings2_test = []\n",
        "\n",
        "\n",
        "for text,word,ids in zip(texts1_test,words_test,id_test):\n",
        "    tokenizer.add_tokens(word)\n",
        "    tokenized_text, tokens_tensor, segments_tensors = albert_text_preparation(text, tokenizer)\n",
        "    list_token_embeddings = get_albert_embeddings(tokens_tensor, segments_tensors, model)\n",
        "    word_index = tokenized_text.index(word)\n",
        "    word_embedding = list_token_embeddings[word_index]\n",
        "    target_word_embeddings1_test.append(word_embedding)\n",
        "\n",
        "for text,word in zip(texts2_test,words_test):\n",
        "    tokenizer.add_tokens(word)\n",
        "    tokenized_text, tokens_tensor, segments_tensors = albert_text_preparation(text, tokenizer)\n",
        "    list_token_embeddings = get_albert_embeddings(tokens_tensor, segments_tensors, model)   \n",
        "    word_index = tokenized_text.index(word)\n",
        "    word_embedding = list_token_embeddings[word_index]\n",
        "    target_word_embeddings2_test.append(word_embedding)\n",
        "\n",
        "\n",
        "len(target_word_embeddings1_test)\n",
        "len(target_word_embeddings2_test)"
      ],
      "metadata": {
        "id": "wwxdzQ7StaZL"
      },
      "execution_count": null,
      "outputs": []
    },
    {
      "cell_type": "code",
      "source": [
        "list_of_distances = []\n",
        "for text1,text2,embed1,embed2 in zip(texts1_test,texts2_test,target_word_embeddings1_test,target_word_embeddings2_test):\n",
        "  cos_dist = 1 - cosine(embed1, embed2)\n",
        "  list_of_distances.append([text1, text2, cos_dist])\n",
        "\n",
        "distances_df = pd.DataFrame(list_of_distances, columns=['text1', 'text2', 'distance'])\n",
        "distances_df"
      ],
      "metadata": {
        "id": "hCJJjeRrtq8b"
      },
      "execution_count": null,
      "outputs": []
    },
    {
      "cell_type": "code",
      "source": [
        "y_pred_test = np.where(distances_df['distance']>thres,1,0)"
      ],
      "metadata": {
        "id": "d6szJbrytukb"
      },
      "execution_count": null,
      "outputs": []
    },
    {
      "cell_type": "code",
      "source": [
        "with open('/content/drive/MyDrive/TempoWiC_Starting_Kit Evaluation/TempoWiC_Starting_Kit/predictions/test.albert-preds.tsv', 'w') as preds_f:\n",
        "  for inst_id, pred in zip(id_test,y_pred_test):\n",
        "    preds_f.write(f\"{inst_id}\\t{pred}\\n\")"
      ],
      "metadata": {
        "id": "GRAkJoIttwfv"
      },
      "execution_count": null,
      "outputs": []
    }
  ]
}